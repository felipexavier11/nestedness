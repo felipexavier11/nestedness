{
 "cells": [
  {
   "cell_type": "code",
   "execution_count": 1,
   "source": [
    "import os\r\n",
    "import re\r\n",
    "import subprocess\r\n",
    "import numpy as np\r\n",
    "import networkx as nx\r\n",
    "import nestedness\r\n",
    "import matplotlib.pyplot as plt\r\n",
    "from scipy import sparse, stats\r\n",
    "\r\n",
    "input_path = os.path.abspath('input')\r\n",
    "bin_path = os.path.abspath('bin')\r\n",
    "output_path = os.path.abspath('output')\r\n",
    "env = os.environ.copy()\r\n",
    "env['PATH'] = '.:' + env['PATH']"
   ],
   "outputs": [],
   "metadata": {}
  },
  {
   "cell_type": "markdown",
   "source": [
    "# Individual nestedness contribution\r\n",
    "## Replication of Figure 1 in [[Saavedra2011]](https://doi.org/10.1038/nature10433)."
   ],
   "metadata": {}
  },
  {
   "cell_type": "code",
   "execution_count": 4,
   "source": [
    "c = []\r\n",
    "for filename in os.listdir(input_path):\r\n",
    "    if (re.match('^.*\\.txt$', filename, re.IGNORECASE)):\r\n",
    "        with open(os.path.join(input_path, filename), 'rb') as adj_matrix:\r\n",
    "            A = np.loadtxt(adj_matrix)\r\n",
    "\r\n",
    "        network = nx.bipartite.from_biadjacency_matrix(sparse.csr_matrix(A))\r\n",
    "        if len(network) > 205:\r\n",
    "            continue\r\n",
    "        print(filename)\r\n",
    "        try:\r\n",
    "            N = nestedness.NODF(network)\r\n",
    "        except ValueError:\r\n",
    "            continue\r\n",
    "        for node in network:\r\n",
    "            N_mean, N_std = nestedness.null_model(network, node, 1000)\r\n",
    "            c.append((N-N_mean)/N_std)\r\n",
    "        #np.savetxt('c.txt', c)"
   ],
   "outputs": [
    {
     "output_type": "stream",
     "name": "stdout",
     "text": [
      "pollinators (1).txt\n",
      "pollinators (10).txt\n",
      "pollinators (11).txt\n",
      "pollinators (13).txt\n",
      "pollinators (14).txt\n",
      "pollinators (15).txt\n",
      "pollinators (16).txt\n",
      "pollinators (17).txt\n",
      "pollinators (18).txt\n",
      "pollinators (19).txt\n",
      "pollinators (2).txt\n",
      "pollinators (20).txt\n",
      "pollinators (21).txt\n",
      "pollinators (22).txt\n",
      "pollinators (23).txt\n",
      "pollinators (24).txt\n",
      "pollinators (25).txt\n",
      "pollinators (26).txt\n",
      "pollinators (27).txt\n",
      "pollinators (29).txt\n",
      "pollinators (3).txt\n",
      "pollinators (30).txt\n",
      "pollinators (31).txt\n",
      "pollinators (33).txt\n",
      "pollinators (34).txt\n",
      "pollinators (35).txt\n",
      "pollinators (4).txt\n",
      "pollinators (5).txt\n",
      "pollinators (6).txt\n",
      "pollinators (7).txt\n",
      "pollinators (8).txt\n",
      "pollinators (9).txt\n"
     ]
    }
   ],
   "metadata": {}
  },
  {
   "cell_type": "code",
   "execution_count": 5,
   "source": [
    "print(max(c))\r\n",
    "print(min(c))\r\n",
    "print(len(c))"
   ],
   "outputs": [
    {
     "output_type": "stream",
     "name": "stdout",
     "text": [
      "5.666970819827743\n",
      "-7.580728830950167\n",
      "2863\n"
     ]
    }
   ],
   "metadata": {}
  },
  {
   "cell_type": "code",
   "execution_count": 12,
   "source": [
    "res = stats.relfreq(c, numbins=31, defaultreallimits=(-5, 10))\r\n",
    "x = res.lowerlimit + np.linspace(0, res.binsize*res.frequency.size, res.frequency.size)\r\n",
    "plt.plot(x, res.frequency, marker='o')\r\n",
    "plt.xlabel('Individual nestedness contribution')\r\n",
    "plt.ylabel('Relative frequency')\r\n",
    "plt.xlim((x.min(), x.max()))\r\n",
    "plt.ylim((.0, .25))\r\n",
    "plt.grid(True)\r\n",
    "plt.show()"
   ],
   "outputs": [
    {
     "output_type": "display_data",
     "data": {
      "image/png": "[encoded data removed]",
      "text/plain": [
       "<Figure size 432x288 with 1 Axes>"
      ]
     },
     "metadata": {
      "needs_background": "light"
     }
    }
   ],
   "metadata": {}
  },
  {
   "cell_type": "markdown",
   "source": [
    "# NODF calculation\r\n",
    "## Replication of values of NODF calculated by [nullnest](https://github.com/cclaualc/nullnest) [[Payrato2019]](https://doi.org/10.1103/PhysRevX.9.031024)."
   ],
   "metadata": {}
  },
  {
   "cell_type": "code",
   "execution_count": 2,
   "source": [
    "for filename in os.listdir(input_path):\r\n",
    "    if (re.match('^.*\\.txt$', filename, re.IGNORECASE)):\r\n",
    "        with open(os.path.join(input_path, filename), 'rb') as adj_matrix:\r\n",
    "            A = np.loadtxt(adj_matrix)\r\n",
    "\r\n",
    "        network = nx.bipartite.from_biadjacency_matrix(sparse.csr_matrix(A))\r\n",
    "        try:\r\n",
    "            N = nestedness.NODF(network)\r\n",
    "        except ValueError:\r\n",
    "            continue\r\n",
    "        print(f'{filename}...', end=' ')\r\n",
    "        sorted_rows = sorted([node for node, data in network.nodes(\r\n",
    "            data=True) if data[\"bipartite\"] == 0], key=network.degree, reverse=True)\r\n",
    "        sorted_cols = sorted([node for node, data in network.nodes(\r\n",
    "            data=True) if data[\"bipartite\"] == 1], key=network.degree, reverse=True)\r\n",
    "        A = nx.bipartite.biadjacency_matrix(\r\n",
    "            network, row_order=sorted_rows, column_order=sorted_cols).toarray()\r\n",
    "\r\n",
    "        np.savetxt(os.path.join(bin_path, 'matrix0ord.txt'), A, fmt='%d')\r\n",
    "        np.savetxt(os.path.join(bin_path, 'matrix0rand.txt'),\r\n",
    "                   np.ones_like(A), fmt='%f')\r\n",
    "        np.savetxt(os.path.join(bin_path, 'general0.txt'), A.shape, fmt='%d')\r\n",
    "        subprocess.run('NODF_analytic 0', cwd=bin_path, shell=True, env=env)\r\n",
    "\r\n",
    "        with open(os.path.join(bin_path, 'analytic_NODF.txt'), 'r') as results:\r\n",
    "            line = results.readline().split()\r\n",
    "            i = line.index('NODF=')\r\n",
    "            actual_N = float(line[i+1])\r\n",
    "\r\n",
    "        if not np.isclose(N, actual_N):\r\n",
    "            raise RuntimeError(f'expected {actual_N} but got {N}')\r\n",
    "        print('pass')\r\n",
    "try:\r\n",
    "    os.remove(os.path.join(bin_path, 'matrix0ord.txt'))\r\n",
    "    os.remove(os.path.join(bin_path, 'matrix0rand.txt'))\r\n",
    "    os.remove(os.path.join(bin_path, 'general0.txt'))\r\n",
    "    os.remove(os.path.join(bin_path, 'analytic_NODF.txt'))\r\n",
    "except FileNotFoundError:\r\n",
    "    pass\r\n",
    "\r\n",
    "print('Validation completed!')"
   ],
   "outputs": [
    {
     "output_type": "stream",
     "name": "stdout",
     "text": [
      "pollinators (1).txt... pass\n",
      "pollinators (10).txt... pass\n",
      "pollinators (11).txt... pass\n",
      "pollinators (12).txt... pass\n",
      "pollinators (13).txt... pass\n",
      "pollinators (14).txt... pass\n",
      "pollinators (15).txt... pass\n",
      "pollinators (16).txt... pass\n",
      "pollinators (17).txt... pass\n",
      "pollinators (18).txt... pass\n",
      "pollinators (19).txt... pass\n",
      "pollinators (2).txt... pass\n",
      "pollinators (20).txt... pass\n",
      "pollinators (21).txt... pass\n",
      "pollinators (22).txt... pass\n",
      "pollinators (23).txt... pass\n",
      "pollinators (24).txt... pass\n",
      "pollinators (25).txt... pass\n",
      "pollinators (26).txt... pass\n",
      "pollinators (27).txt... pass\n",
      "pollinators (28).txt... pass\n",
      "pollinators (29).txt... pass\n",
      "pollinators (3).txt... pass\n",
      "pollinators (31).txt... pass\n",
      "pollinators (32).txt... pass\n",
      "pollinators (33).txt... pass\n",
      "pollinators (34).txt... pass\n",
      "pollinators (4).txt... pass\n",
      "pollinators (5).txt... pass\n",
      "pollinators (6).txt... pass\n",
      "pollinators (7).txt... pass\n",
      "pollinators (8).txt... pass\n",
      "pollinators (9).txt... pass\n",
      "Validation completed!\n"
     ]
    }
   ],
   "metadata": {}
  }
 ],
 "metadata": {
  "orig_nbformat": 4,
  "language_info": {
   "name": "python",
   "version": "3.8.5",
   "mimetype": "text/x-python",
   "codemirror_mode": {
    "name": "ipython",
    "version": 3
   },
   "pygments_lexer": "ipython3",
   "nbconvert_exporter": "python",
   "file_extension": ".py"
  },
  "kernelspec": {
   "name": "python3",
   "display_name": "Python 3.8.5 64-bit ('venv': venv)"
  },
  "interpreter": {
   "hash": "988ad77f878a21b356d4739a9be172593238676958364e6596e72f8d399eae82"
  }
 },
 "nbformat": 4,
 "nbformat_minor": 2
}